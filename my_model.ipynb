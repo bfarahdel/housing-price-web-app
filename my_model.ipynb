{
  "cells": [
    {
      "cell_type": "markdown",
      "id": "lHapRcVm-ZOW",
      "metadata": {
        "id": "lHapRcVm-ZOW"
      },
      "source": [
        "# Load Data"
      ]
    },
    {
      "cell_type": "code",
      "execution_count": null,
      "id": "selective-costume",
      "metadata": {
        "colab": {
          "base_uri": "https://localhost:8080/",
          "height": 318
        },
        "id": "selective-costume",
        "outputId": "8a01fce0-b7ec-4531-e932-d9f7576f14a3"
      },
      "outputs": [
        {
          "data": {
            "text/html": [
              "\n",
              "  <div id=\"df-cbcb8c3f-14cf-42e1-920a-e699bb95180c\">\n",
              "    <div class=\"colab-df-container\">\n",
              "      <div>\n",
              "<style scoped>\n",
              "    .dataframe tbody tr th:only-of-type {\n",
              "        vertical-align: middle;\n",
              "    }\n",
              "\n",
              "    .dataframe tbody tr th {\n",
              "        vertical-align: top;\n",
              "    }\n",
              "\n",
              "    .dataframe thead th {\n",
              "        text-align: right;\n",
              "    }\n",
              "</style>\n",
              "<table border=\"1\" class=\"dataframe\">\n",
              "  <thead>\n",
              "    <tr style=\"text-align: right;\">\n",
              "      <th></th>\n",
              "      <th>city</th>\n",
              "      <th>state</th>\n",
              "      <th>bathrooms</th>\n",
              "      <th>bedrooms</th>\n",
              "      <th>livingArea</th>\n",
              "      <th>lotArea</th>\n",
              "      <th>lotUnit</th>\n",
              "      <th>price</th>\n",
              "      <th>homeType_CONDO</th>\n",
              "      <th>homeType_MULTI_FAMILY</th>\n",
              "      <th>homeType_SINGLE_FAMILY</th>\n",
              "      <th>homeType_TOWNHOUSE</th>\n",
              "      <th>median_income</th>\n",
              "    </tr>\n",
              "    <tr>\n",
              "      <th>id</th>\n",
              "      <th></th>\n",
              "      <th></th>\n",
              "      <th></th>\n",
              "      <th></th>\n",
              "      <th></th>\n",
              "      <th></th>\n",
              "      <th></th>\n",
              "      <th></th>\n",
              "      <th></th>\n",
              "      <th></th>\n",
              "      <th></th>\n",
              "      <th></th>\n",
              "      <th></th>\n",
              "    </tr>\n",
              "  </thead>\n",
              "  <tbody>\n",
              "    <tr>\n",
              "      <th>0</th>\n",
              "      <td>Justin</td>\n",
              "      <td>TX</td>\n",
              "      <td>3.0</td>\n",
              "      <td>4.0</td>\n",
              "      <td>3078.0</td>\n",
              "      <td>7492.32</td>\n",
              "      <td>sqft</td>\n",
              "      <td>358100.0</td>\n",
              "      <td>0</td>\n",
              "      <td>0</td>\n",
              "      <td>1</td>\n",
              "      <td>0</td>\n",
              "      <td>46658.0</td>\n",
              "    </tr>\n",
              "    <tr>\n",
              "      <th>1</th>\n",
              "      <td>Litchfield Park</td>\n",
              "      <td>AZ</td>\n",
              "      <td>5.0</td>\n",
              "      <td>5.0</td>\n",
              "      <td>3722.0</td>\n",
              "      <td>6577.56</td>\n",
              "      <td>sqft</td>\n",
              "      <td>660000.0</td>\n",
              "      <td>0</td>\n",
              "      <td>0</td>\n",
              "      <td>1</td>\n",
              "      <td>0</td>\n",
              "      <td>57188.0</td>\n",
              "    </tr>\n",
              "    <tr>\n",
              "      <th>2</th>\n",
              "      <td>Anchorage</td>\n",
              "      <td>AK</td>\n",
              "      <td>2.0</td>\n",
              "      <td>3.0</td>\n",
              "      <td>1388.0</td>\n",
              "      <td>0.00</td>\n",
              "      <td>sqft</td>\n",
              "      <td>232500.0</td>\n",
              "      <td>1</td>\n",
              "      <td>0</td>\n",
              "      <td>0</td>\n",
              "      <td>0</td>\n",
              "      <td>66044.0</td>\n",
              "    </tr>\n",
              "    <tr>\n",
              "      <th>3</th>\n",
              "      <td>Berwick</td>\n",
              "      <td>ME</td>\n",
              "      <td>4.0</td>\n",
              "      <td>3.0</td>\n",
              "      <td>2972.0</td>\n",
              "      <td>79714.80</td>\n",
              "      <td>acres</td>\n",
              "      <td>551900.0</td>\n",
              "      <td>0</td>\n",
              "      <td>0</td>\n",
              "      <td>1</td>\n",
              "      <td>0</td>\n",
              "      <td>46016.0</td>\n",
              "    </tr>\n",
              "    <tr>\n",
              "      <th>4</th>\n",
              "      <td>Thornton</td>\n",
              "      <td>CO</td>\n",
              "      <td>3.0</td>\n",
              "      <td>2.0</td>\n",
              "      <td>1926.0</td>\n",
              "      <td>0.00</td>\n",
              "      <td>sqft</td>\n",
              "      <td>435000.0</td>\n",
              "      <td>0</td>\n",
              "      <td>0</td>\n",
              "      <td>0</td>\n",
              "      <td>1</td>\n",
              "      <td>65217.0</td>\n",
              "    </tr>\n",
              "  </tbody>\n",
              "</table>\n",
              "</div>\n",
              "      <button class=\"colab-df-convert\" onclick=\"convertToInteractive('df-cbcb8c3f-14cf-42e1-920a-e699bb95180c')\"\n",
              "              title=\"Convert this dataframe to an interactive table.\"\n",
              "              style=\"display:none;\">\n",
              "        \n",
              "  <svg xmlns=\"http://www.w3.org/2000/svg\" height=\"24px\"viewBox=\"0 0 24 24\"\n",
              "       width=\"24px\">\n",
              "    <path d=\"M0 0h24v24H0V0z\" fill=\"none\"/>\n",
              "    <path d=\"M18.56 5.44l.94 2.06.94-2.06 2.06-.94-2.06-.94-.94-2.06-.94 2.06-2.06.94zm-11 1L8.5 8.5l.94-2.06 2.06-.94-2.06-.94L8.5 2.5l-.94 2.06-2.06.94zm10 10l.94 2.06.94-2.06 2.06-.94-2.06-.94-.94-2.06-.94 2.06-2.06.94z\"/><path d=\"M17.41 7.96l-1.37-1.37c-.4-.4-.92-.59-1.43-.59-.52 0-1.04.2-1.43.59L10.3 9.45l-7.72 7.72c-.78.78-.78 2.05 0 2.83L4 21.41c.39.39.9.59 1.41.59.51 0 1.02-.2 1.41-.59l7.78-7.78 2.81-2.81c.8-.78.8-2.07 0-2.86zM5.41 20L4 18.59l7.72-7.72 1.47 1.35L5.41 20z\"/>\n",
              "  </svg>\n",
              "      </button>\n",
              "      \n",
              "  <style>\n",
              "    .colab-df-container {\n",
              "      display:flex;\n",
              "      flex-wrap:wrap;\n",
              "      gap: 12px;\n",
              "    }\n",
              "\n",
              "    .colab-df-convert {\n",
              "      background-color: #E8F0FE;\n",
              "      border: none;\n",
              "      border-radius: 50%;\n",
              "      cursor: pointer;\n",
              "      display: none;\n",
              "      fill: #1967D2;\n",
              "      height: 32px;\n",
              "      padding: 0 0 0 0;\n",
              "      width: 32px;\n",
              "    }\n",
              "\n",
              "    .colab-df-convert:hover {\n",
              "      background-color: #E2EBFA;\n",
              "      box-shadow: 0px 1px 2px rgba(60, 64, 67, 0.3), 0px 1px 3px 1px rgba(60, 64, 67, 0.15);\n",
              "      fill: #174EA6;\n",
              "    }\n",
              "\n",
              "    [theme=dark] .colab-df-convert {\n",
              "      background-color: #3B4455;\n",
              "      fill: #D2E3FC;\n",
              "    }\n",
              "\n",
              "    [theme=dark] .colab-df-convert:hover {\n",
              "      background-color: #434B5C;\n",
              "      box-shadow: 0px 1px 3px 1px rgba(0, 0, 0, 0.15);\n",
              "      filter: drop-shadow(0px 1px 2px rgba(0, 0, 0, 0.3));\n",
              "      fill: #FFFFFF;\n",
              "    }\n",
              "  </style>\n",
              "\n",
              "      <script>\n",
              "        const buttonEl =\n",
              "          document.querySelector('#df-cbcb8c3f-14cf-42e1-920a-e699bb95180c button.colab-df-convert');\n",
              "        buttonEl.style.display =\n",
              "          google.colab.kernel.accessAllowed ? 'block' : 'none';\n",
              "\n",
              "        async function convertToInteractive(key) {\n",
              "          const element = document.querySelector('#df-cbcb8c3f-14cf-42e1-920a-e699bb95180c');\n",
              "          const dataTable =\n",
              "            await google.colab.kernel.invokeFunction('convertToInteractive',\n",
              "                                                     [key], {});\n",
              "          if (!dataTable) return;\n",
              "\n",
              "          const docLinkHtml = 'Like what you see? Visit the ' +\n",
              "            '<a target=\"_blank\" href=https://colab.research.google.com/notebooks/data_table.ipynb>data table notebook</a>'\n",
              "            + ' to learn more about interactive tables.';\n",
              "          element.innerHTML = '';\n",
              "          dataTable['output_type'] = 'display_data';\n",
              "          await google.colab.output.renderOutput(dataTable, element);\n",
              "          const docLink = document.createElement('div');\n",
              "          docLink.innerHTML = docLinkHtml;\n",
              "          element.appendChild(docLink);\n",
              "        }\n",
              "      </script>\n",
              "    </div>\n",
              "  </div>\n",
              "  "
            ],
            "text/plain": [
              "               city state  ...  homeType_TOWNHOUSE  median_income\n",
              "id                         ...                                   \n",
              "0            Justin    TX  ...                   0        46658.0\n",
              "1   Litchfield Park    AZ  ...                   0        57188.0\n",
              "2         Anchorage    AK  ...                   0        66044.0\n",
              "3           Berwick    ME  ...                   0        46016.0\n",
              "4          Thornton    CO  ...                   1        65217.0\n",
              "\n",
              "[5 rows x 13 columns]"
            ]
          },
          "execution_count": 1,
          "metadata": {},
          "output_type": "execute_result"
        }
      ],
      "source": [
        "import pandas as pd\n",
        "import matplotlib.pyplot as plt\n",
        "import numpy as np\n",
        "\n",
        "train_df = pd.read_csv('https://raw.githubusercontent.com/wlifferth/build-an-ml-web-app/main/cleaned_data.csv', index_col='id')\n",
        "train_df.head()"
      ]
    },
    {
      "cell_type": "markdown",
      "id": "hgkK-xB9EzXE",
      "metadata": {
        "id": "hgkK-xB9EzXE"
      },
      "source": [
        "# Feature Selection"
      ]
    },
    {
      "cell_type": "markdown",
      "id": "XKAjXz24L6YH",
      "metadata": {
        "id": "XKAjXz24L6YH"
      },
      "source": [
        "I did standardize the data, however I did not notice an improvement in model performance. Also, to keep things simple with the Kaggle Submission below, I decided to leave the data unstandardized."
      ]
    },
    {
      "cell_type": "code",
      "execution_count": null,
      "id": "dtanOlJx6CCD",
      "metadata": {
        "id": "dtanOlJx6CCD"
      },
      "outputs": [],
      "source": [
        "from sklearn.preprocessing import StandardScaler\n",
        "scaler = StandardScaler()\n",
        "data = pd.get_dummies(train_df.loc[:, \n",
        "                                   ['bedrooms', 'bathrooms', 'livingArea', \n",
        "                                    'price', 'homeType_CONDO', \n",
        "                                    'homeType_MULTI_FAMILY', \n",
        "                                    'homeType_SINGLE_FAMILY', \n",
        "                                    'homeType_TOWNHOUSE', 'median_income', \n",
        "                                    'state']], \n",
        "                                    columns=[\"state\"])\n",
        "std_data = pd.DataFrame(scaler.fit_transform(data), columns=data.columns)"
      ]
    },
    {
      "cell_type": "markdown",
      "id": "ZTyJ9v0WEYbf",
      "metadata": {
        "id": "ZTyJ9v0WEYbf"
      },
      "source": [
        "Observe the correlation between the selected features from the dataset with housing price. These features were selected based on the data variable in the above cell. The goal here was to try to select features that had a higher correlation with housing price."
      ]
    },
    {
      "cell_type": "code",
      "execution_count": null,
      "id": "_0T9y-9sDLWN",
      "metadata": {
        "id": "_0T9y-9sDLWN"
      },
      "outputs": [],
      "source": [
        "#data.corr().loc[\"price\",:]"
      ]
    },
    {
      "cell_type": "markdown",
      "id": "EvDe1r0N-gvn",
      "metadata": {
        "id": "EvDe1r0N-gvn"
      },
      "source": [
        "# Model Evaluation"
      ]
    },
    {
      "cell_type": "markdown",
      "id": "wzMjjhbeFtnN",
      "metadata": {
        "id": "wzMjjhbeFtnN"
      },
      "source": [
        "I decided to go with Extreme Gradient Boosting (XGBoost). From observing Will's models, I noticed that the linear regression model performed suprisingly well compared to his Neural Network model (see linear regression model in the below cell). There's this principle in machine learning known as Occam's razor. To summarize, it states to pick the simplest model possible. Neural Networks are powerful but these models tend to be complicated. I then decided that I wanted a model with some nonlinearity in it. I started out with LASSO regression, but I was getting a similar performance to the linear regression model. This is why I selected XGBoost. It allows for regularization similar to LASSO regression, and it also provides several other hyperparameters which can be used to adjust decision tree ensembles when constructing our model."
      ]
    },
    {
      "cell_type": "markdown",
      "id": "ZRlkcyKmLS-h",
      "metadata": {
        "id": "ZRlkcyKmLS-h"
      },
      "source": [
        "Will's Linear Regression Model"
      ]
    },
    {
      "cell_type": "code",
      "execution_count": null,
      "id": "lSm6TDQwHzs3",
      "metadata": {
        "colab": {
          "base_uri": "https://localhost:8080/"
        },
        "id": "lSm6TDQwHzs3",
        "outputId": "06f69428-8dd9-4c60-9f6e-10b6fb7bc1b7"
      },
      "outputs": [
        {
          "name": "stdout",
          "output_type": "stream",
          "text": [
            "60397.58345067544\n",
            "60902.298618907844\n",
            "61131.92083270111\n",
            "61237.019125373896\n",
            "Mean Error 60917.20550691457\n"
          ]
        }
      ],
      "source": [
        "# What if we one-hot encoded state?\n",
        "from sklearn.linear_model import LinearRegression\n",
        "from sklearn.model_selection import train_test_split\n",
        "from sklearn.metrics import mean_absolute_error\n",
        "X = pd.get_dummies(train_df.drop(['city', 'lotUnit', 'price'], axis=1), columns=['state'])\n",
        "y = train_df['price']\n",
        "\n",
        "errors = []\n",
        "for i in range(4):\n",
        "    X_train, X_test, y_train, y_test = train_test_split(X, y, test_size=0.33, random_state=i)\n",
        "    model = LinearRegression()\n",
        "    model.fit(X_train, y_train)\n",
        "    predictions = model.predict(X_test)\n",
        "    error = mean_absolute_error(predictions, y_test)\n",
        "    print(error)\n",
        "    errors.append(error)\n",
        "print(f'Mean Error {np.mean(errors)}')\n",
        "\n",
        "# Nice!"
      ]
    },
    {
      "cell_type": "markdown",
      "id": "hNyHjX-zLd8m",
      "metadata": {
        "id": "hNyHjX-zLd8m"
      },
      "source": [
        "## Evaluating the XGBoost Model with the selected Features"
      ]
    },
    {
      "cell_type": "code",
      "execution_count": null,
      "id": "ZOh2-RI-9T3F",
      "metadata": {
        "id": "ZOh2-RI-9T3F"
      },
      "outputs": [],
      "source": [
        "X = data.drop(['price'], axis=1)\n",
        "y = data['price']\n",
        "\n",
        "from sklearn.model_selection import train_test_split\n",
        "from xgboost import XGBRegressor\n",
        "from sklearn.metrics import mean_absolute_error\n",
        "\n",
        "X_train, X_test, y_train, y_test = train_test_split(X, y, test_size=0.33, random_state=42)"
      ]
    },
    {
      "cell_type": "markdown",
      "id": "XDcleRjUPDz8",
      "metadata": {
        "id": "XDcleRjUPDz8"
      },
      "source": [
        "A 5 fold cross-validation will be used for the model. To summarize, during model training, the data will be split into 5 groups and these groups will be shuffled in a random order during training."
      ]
    },
    {
      "cell_type": "code",
      "execution_count": null,
      "id": "AdcEu4qXwR2O",
      "metadata": {
        "id": "AdcEu4qXwR2O"
      },
      "outputs": [],
      "source": [
        "from sklearn.model_selection import KFold\n",
        "cv = KFold(n_splits=5, shuffle=True, random_state=42)"
      ]
    },
    {
      "cell_type": "code",
      "execution_count": null,
      "id": "AHh2opDD0nE-",
      "metadata": {
        "colab": {
          "base_uri": "https://localhost:8080/"
        },
        "id": "AHh2opDD0nE-",
        "outputId": "f3a7011f-fada-4618-c020-86a65bec57d0"
      },
      "outputs": [
        {
          "name": "stdout",
          "output_type": "stream",
          "text": [
            "Fitting 5 folds for each of 1 candidates, totalling 5 fits\n",
            "[CV 1/5] END alpha=0, colsample_bylevel=0.8, colsample_bynode=1, colsample_bytree=1, gamma=6, lambda=3, learning_rate=0.2, max_delta_step=0, max_depth=6, min_child_weight=6, n_estimators=500, scale_pos_weight=1, subsample=1;, score=(train=-33728.069, test=-57672.075) total time=  14.0s\n",
            "[CV 2/5] END alpha=0, colsample_bylevel=0.8, colsample_bynode=1, colsample_bytree=1, gamma=6, lambda=3, learning_rate=0.2, max_delta_step=0, max_depth=6, min_child_weight=6, n_estimators=500, scale_pos_weight=1, subsample=1;, score=(train=-34242.280, test=-55965.784) total time=  12.6s\n",
            "[CV 3/5] END alpha=0, colsample_bylevel=0.8, colsample_bynode=1, colsample_bytree=1, gamma=6, lambda=3, learning_rate=0.2, max_delta_step=0, max_depth=6, min_child_weight=6, n_estimators=500, scale_pos_weight=1, subsample=1;, score=(train=-33618.347, test=-56672.116) total time=  12.5s\n",
            "[CV 4/5] END alpha=0, colsample_bylevel=0.8, colsample_bynode=1, colsample_bytree=1, gamma=6, lambda=3, learning_rate=0.2, max_delta_step=0, max_depth=6, min_child_weight=6, n_estimators=500, scale_pos_weight=1, subsample=1;, score=(train=-34573.157, test=-57050.929) total time=  12.6s\n",
            "[CV 5/5] END alpha=0, colsample_bylevel=0.8, colsample_bynode=1, colsample_bytree=1, gamma=6, lambda=3, learning_rate=0.2, max_delta_step=0, max_depth=6, min_child_weight=6, n_estimators=500, scale_pos_weight=1, subsample=1;, score=(train=-33944.458, test=-57139.533) total time=  12.6s\n"
          ]
        },
        {
          "data": {
            "text/plain": [
              "GridSearchCV(cv=KFold(n_splits=5, random_state=42, shuffle=True),\n",
              "             estimator=XGBRegressor(objective='reg:squarederror'), n_jobs=-2,\n",
              "             param_grid={'alpha': [0], 'colsample_bylevel': [0.8],\n",
              "                         'colsample_bynode': [1], 'colsample_bytree': [1],\n",
              "                         'gamma': [6], 'lambda': [3], 'learning_rate': [0.2],\n",
              "                         'max_delta_step': [0], 'max_depth': [6],\n",
              "                         'min_child_weight': [6], 'n_estimators': [500],\n",
              "                         'scale_pos_weight': [1], 'subsample': [1]},\n",
              "             return_train_score=True, scoring='neg_mean_absolute_error',\n",
              "             verbose=3)"
            ]
          },
          "execution_count": 7,
          "metadata": {},
          "output_type": "execute_result"
        }
      ],
      "source": [
        "from sklearn.model_selection import GridSearchCV\n",
        "model = XGBRegressor(objective='reg:squarederror')\n",
        "grid_search = GridSearchCV(model,\n",
        "                        {'n_estimators': [500], # default: 100  \n",
        "                        'learning_rate': [0.2], # default: 0.3\n",
        "                        'max_depth': [6], # default: 6\n",
        "                        'gamma': [6], # default: 0\n",
        "                        'min_child_weight': [6], # default: 6\n",
        "                        'subsample': [1], # default: 1\n",
        "                        'colsample_bytree': [1], # default: 1\n",
        "                        'colsample_bylevel': [0.8], # default: 1\n",
        "                        'colsample_bynode': [1], # default: 1\n",
        "                        'scale_pos_weight': [1], # default: 1\n",
        "                        'max_delta_step': [0], # default: 0\n",
        "                        'lambda': [3], # default: 1\n",
        "                        'alpha': [0], # default: 0\n",
        "                        },\n",
        "                        cv = cv,\n",
        "                        scoring = ('neg_mean_absolute_error'),\n",
        "                        return_train_score = True,\n",
        "                        n_jobs = -2,\n",
        "                        verbose=3)\n",
        "grid_search.fit(X_train, y_train)"
      ]
    },
    {
      "cell_type": "code",
      "execution_count": null,
      "id": "oJKIiOQZDL08",
      "metadata": {
        "colab": {
          "base_uri": "https://localhost:8080/"
        },
        "id": "oJKIiOQZDL08",
        "outputId": "a919acc3-6f8f-4c96-adf7-8973b530aa37"
      },
      "outputs": [
        {
          "data": {
            "text/plain": [
              "XGBRegressor(alpha=0, colsample_bylevel=0.8, gamma=6, lambda=3,\n",
              "             learning_rate=0.2, max_depth=6, min_child_weight=6,\n",
              "             n_estimators=500, objective='reg:squarederror')"
            ]
          },
          "execution_count": 8,
          "metadata": {},
          "output_type": "execute_result"
        }
      ],
      "source": [
        "grid_search.best_estimator_"
      ]
    },
    {
      "cell_type": "markdown",
      "id": "cvAz1wSZNlp-",
      "metadata": {
        "id": "cvAz1wSZNlp-"
      },
      "source": [
        "This is the final model selected from grid search. It's not necessary to do the below cells, but I wanted to view the model's performance similar to how Will did in his sessions."
      ]
    },
    {
      "cell_type": "code",
      "execution_count": null,
      "id": "JtsUdTCYvy49",
      "metadata": {
        "colab": {
          "base_uri": "https://localhost:8080/"
        },
        "id": "JtsUdTCYvy49",
        "outputId": "199bdf0c-8d3d-42eb-adfd-0e87250d27f2"
      },
      "outputs": [
        {
          "name": "stdout",
          "output_type": "stream",
          "text": [
            "55446.05348656473\n"
          ]
        }
      ],
      "source": [
        "model = XGBRegressor(objective='reg:squarederror',\n",
        "                        n_estimators= 500, \n",
        "                        learning_rate= 0.2, \n",
        "                        max_depth= 6, \n",
        "                        gamma= 6, \n",
        "                        min_child_weight= 6, \n",
        "                        subsample= 1,\n",
        "                        colsample_bytree= 1,\n",
        "                        colsample_bylevel= 0.8, \n",
        "                        colsample_bynode= 1, \n",
        "                        scale_pos_weight= 1,\n",
        "                        max_delta_step= 0,\n",
        "                        reg_lambda= 3, \n",
        "                        alpha= 0\n",
        "                     )\n",
        "model.fit(X_train, y_train)\n",
        "prediction = model.predict(X_test)\n",
        "error = mean_absolute_error(prediction, y_test)\n",
        "print(error)"
      ]
    },
    {
      "cell_type": "code",
      "execution_count": null,
      "id": "pBPnfFNKBF_x",
      "metadata": {
        "colab": {
          "base_uri": "https://localhost:8080/"
        },
        "id": "pBPnfFNKBF_x",
        "outputId": "9279bf06-0b79-40f4-e4fa-f8051588ce62"
      },
      "outputs": [
        {
          "data": {
            "text/plain": [
              "array([54464.65054014, 55162.65687897, 55182.90758185, 54998.76381587,\n",
              "       54635.10173876])"
            ]
          },
          "execution_count": 10,
          "metadata": {},
          "output_type": "execute_result"
        }
      ],
      "source": [
        "# Scores from each of the folds in a 5-fold cross validation of the model\n",
        "from sklearn.model_selection import cross_val_score\n",
        "np.abs(cross_val_score(model, X, y, scoring='neg_mean_absolute_error'))"
      ]
    },
    {
      "cell_type": "markdown",
      "id": "P4-WmwdaUQfT",
      "metadata": {
        "id": "P4-WmwdaUQfT"
      },
      "source": [
        "# Submission"
      ]
    },
    {
      "cell_type": "code",
      "execution_count": null,
      "id": "KEPImu2OUSm3",
      "metadata": {
        "colab": {
          "base_uri": "https://localhost:8080/"
        },
        "id": "KEPImu2OUSm3",
        "outputId": "636145d8-46a6-4b84-a67e-9ba29a2f5914"
      },
      "outputs": [
        {
          "data": {
            "text/plain": [
              "XGBRegressor(alpha=0, colsample_bylevel=0.8, gamma=6, learning_rate=0.2,\n",
              "             max_depth=6, min_child_weight=6, n_estimators=500,\n",
              "             objective='reg:squarederror', reg_lambda=3)"
            ]
          },
          "execution_count": 11,
          "metadata": {},
          "output_type": "execute_result"
        }
      ],
      "source": [
        "# Finally, lets cover how to submit to the kaggle competition\n",
        "\n",
        "final_model = XGBRegressor(objective='reg:squarederror',\n",
        "                        n_estimators= 500, \n",
        "                        learning_rate= 0.2, \n",
        "                        max_depth= 6, \n",
        "                        gamma= 6, \n",
        "                        min_child_weight= 6, \n",
        "                        subsample= 1,\n",
        "                        colsample_bytree= 1,\n",
        "                        colsample_bylevel= 0.8, \n",
        "                        colsample_bynode= 1, \n",
        "                        scale_pos_weight= 1,\n",
        "                        max_delta_step= 0,\n",
        "                        reg_lambda= 3, \n",
        "                        alpha= 0\n",
        "                     )\n",
        "\n",
        "final_training_input = pd.get_dummies(train_df.loc[:, ['bedrooms', 'bathrooms', 'livingArea', 'homeType_CONDO', 'homeType_MULTI_FAMILY', 'homeType_SINGLE_FAMILY', 'homeType_TOWNHOUSE', 'median_income', 'state']], columns=[\"state\"])\n",
        "\n",
        "X = final_training_input\n",
        "y = train_df['price']\n",
        "final_model.fit(X, y)"
      ]
    },
    {
      "cell_type": "code",
      "execution_count": null,
      "id": "4vdZ5hd3UdkS",
      "metadata": {
        "colab": {
          "base_uri": "https://localhost:8080/",
          "height": 492
        },
        "id": "4vdZ5hd3UdkS",
        "outputId": "9cd26f0e-4bdd-4cfb-d0bb-52372f77b970"
      },
      "outputs": [
        {
          "name": "stdout",
          "output_type": "stream",
          "text": [
            "       zipcode           city  ... homeType_SINGLE_FAMILY  homeType_TOWNHOUSE\n",
            "id                             ...                                           \n",
            "22805  19970.0     Ocean View  ...                      1                   0\n",
            "18392  27704.0         Durham  ...                      1                   0\n",
            "15215  20733.0      Churchton  ...                      1                   0\n",
            "20235  33064.0  Pompano Beach  ...                      1                   0\n",
            "13810   6239.0      Killingly  ...                      1                   0\n",
            "\n",
            "[5 rows x 11 columns]\n"
          ]
        },
        {
          "data": {
            "text/html": [
              "\n",
              "  <div id=\"df-1451d724-a721-43ce-9848-a2130db5b692\">\n",
              "    <div class=\"colab-df-container\">\n",
              "      <div>\n",
              "<style scoped>\n",
              "    .dataframe tbody tr th:only-of-type {\n",
              "        vertical-align: middle;\n",
              "    }\n",
              "\n",
              "    .dataframe tbody tr th {\n",
              "        vertical-align: top;\n",
              "    }\n",
              "\n",
              "    .dataframe thead th {\n",
              "        text-align: right;\n",
              "    }\n",
              "</style>\n",
              "<table border=\"1\" class=\"dataframe\">\n",
              "  <thead>\n",
              "    <tr style=\"text-align: right;\">\n",
              "      <th></th>\n",
              "      <th>city</th>\n",
              "      <th>state</th>\n",
              "      <th>bathrooms</th>\n",
              "      <th>bedrooms</th>\n",
              "      <th>livingArea</th>\n",
              "      <th>lotArea</th>\n",
              "      <th>homeType_CONDO</th>\n",
              "      <th>homeType_MULTI_FAMILY</th>\n",
              "      <th>homeType_SINGLE_FAMILY</th>\n",
              "      <th>homeType_TOWNHOUSE</th>\n",
              "      <th>median_income</th>\n",
              "    </tr>\n",
              "    <tr>\n",
              "      <th>id</th>\n",
              "      <th></th>\n",
              "      <th></th>\n",
              "      <th></th>\n",
              "      <th></th>\n",
              "      <th></th>\n",
              "      <th></th>\n",
              "      <th></th>\n",
              "      <th></th>\n",
              "      <th></th>\n",
              "      <th></th>\n",
              "      <th></th>\n",
              "    </tr>\n",
              "  </thead>\n",
              "  <tbody>\n",
              "    <tr>\n",
              "      <th>22805</th>\n",
              "      <td>Ocean View</td>\n",
              "      <td>DE</td>\n",
              "      <td>4.0</td>\n",
              "      <td>5.0</td>\n",
              "      <td>4100.0</td>\n",
              "      <td>10454.4</td>\n",
              "      <td>0</td>\n",
              "      <td>0</td>\n",
              "      <td>1</td>\n",
              "      <td>0</td>\n",
              "      <td>49786.0</td>\n",
              "    </tr>\n",
              "    <tr>\n",
              "      <th>18392</th>\n",
              "      <td>Durham</td>\n",
              "      <td>NC</td>\n",
              "      <td>3.0</td>\n",
              "      <td>4.0</td>\n",
              "      <td>2055.0</td>\n",
              "      <td>12632.4</td>\n",
              "      <td>0</td>\n",
              "      <td>0</td>\n",
              "      <td>1</td>\n",
              "      <td>0</td>\n",
              "      <td>37513.0</td>\n",
              "    </tr>\n",
              "    <tr>\n",
              "      <th>15215</th>\n",
              "      <td>Churchton</td>\n",
              "      <td>MD</td>\n",
              "      <td>2.0</td>\n",
              "      <td>3.0</td>\n",
              "      <td>1530.0</td>\n",
              "      <td>4791.6</td>\n",
              "      <td>0</td>\n",
              "      <td>0</td>\n",
              "      <td>1</td>\n",
              "      <td>0</td>\n",
              "      <td>41087.0</td>\n",
              "    </tr>\n",
              "    <tr>\n",
              "      <th>20235</th>\n",
              "      <td>Pompano Beach</td>\n",
              "      <td>FL</td>\n",
              "      <td>1.0</td>\n",
              "      <td>3.0</td>\n",
              "      <td>744.0</td>\n",
              "      <td>6120.0</td>\n",
              "      <td>0</td>\n",
              "      <td>0</td>\n",
              "      <td>1</td>\n",
              "      <td>0</td>\n",
              "      <td>37070.0</td>\n",
              "    </tr>\n",
              "    <tr>\n",
              "      <th>13810</th>\n",
              "      <td>Killingly</td>\n",
              "      <td>CT</td>\n",
              "      <td>3.0</td>\n",
              "      <td>6.0</td>\n",
              "      <td>4166.0</td>\n",
              "      <td>37.0</td>\n",
              "      <td>0</td>\n",
              "      <td>0</td>\n",
              "      <td>1</td>\n",
              "      <td>0</td>\n",
              "      <td>33438.0</td>\n",
              "    </tr>\n",
              "  </tbody>\n",
              "</table>\n",
              "</div>\n",
              "      <button class=\"colab-df-convert\" onclick=\"convertToInteractive('df-1451d724-a721-43ce-9848-a2130db5b692')\"\n",
              "              title=\"Convert this dataframe to an interactive table.\"\n",
              "              style=\"display:none;\">\n",
              "        \n",
              "  <svg xmlns=\"http://www.w3.org/2000/svg\" height=\"24px\"viewBox=\"0 0 24 24\"\n",
              "       width=\"24px\">\n",
              "    <path d=\"M0 0h24v24H0V0z\" fill=\"none\"/>\n",
              "    <path d=\"M18.56 5.44l.94 2.06.94-2.06 2.06-.94-2.06-.94-.94-2.06-.94 2.06-2.06.94zm-11 1L8.5 8.5l.94-2.06 2.06-.94-2.06-.94L8.5 2.5l-.94 2.06-2.06.94zm10 10l.94 2.06.94-2.06 2.06-.94-2.06-.94-.94-2.06-.94 2.06-2.06.94z\"/><path d=\"M17.41 7.96l-1.37-1.37c-.4-.4-.92-.59-1.43-.59-.52 0-1.04.2-1.43.59L10.3 9.45l-7.72 7.72c-.78.78-.78 2.05 0 2.83L4 21.41c.39.39.9.59 1.41.59.51 0 1.02-.2 1.41-.59l7.78-7.78 2.81-2.81c.8-.78.8-2.07 0-2.86zM5.41 20L4 18.59l7.72-7.72 1.47 1.35L5.41 20z\"/>\n",
              "  </svg>\n",
              "      </button>\n",
              "      \n",
              "  <style>\n",
              "    .colab-df-container {\n",
              "      display:flex;\n",
              "      flex-wrap:wrap;\n",
              "      gap: 12px;\n",
              "    }\n",
              "\n",
              "    .colab-df-convert {\n",
              "      background-color: #E8F0FE;\n",
              "      border: none;\n",
              "      border-radius: 50%;\n",
              "      cursor: pointer;\n",
              "      display: none;\n",
              "      fill: #1967D2;\n",
              "      height: 32px;\n",
              "      padding: 0 0 0 0;\n",
              "      width: 32px;\n",
              "    }\n",
              "\n",
              "    .colab-df-convert:hover {\n",
              "      background-color: #E2EBFA;\n",
              "      box-shadow: 0px 1px 2px rgba(60, 64, 67, 0.3), 0px 1px 3px 1px rgba(60, 64, 67, 0.15);\n",
              "      fill: #174EA6;\n",
              "    }\n",
              "\n",
              "    [theme=dark] .colab-df-convert {\n",
              "      background-color: #3B4455;\n",
              "      fill: #D2E3FC;\n",
              "    }\n",
              "\n",
              "    [theme=dark] .colab-df-convert:hover {\n",
              "      background-color: #434B5C;\n",
              "      box-shadow: 0px 1px 3px 1px rgba(0, 0, 0, 0.15);\n",
              "      filter: drop-shadow(0px 1px 2px rgba(0, 0, 0, 0.3));\n",
              "      fill: #FFFFFF;\n",
              "    }\n",
              "  </style>\n",
              "\n",
              "      <script>\n",
              "        const buttonEl =\n",
              "          document.querySelector('#df-1451d724-a721-43ce-9848-a2130db5b692 button.colab-df-convert');\n",
              "        buttonEl.style.display =\n",
              "          google.colab.kernel.accessAllowed ? 'block' : 'none';\n",
              "\n",
              "        async function convertToInteractive(key) {\n",
              "          const element = document.querySelector('#df-1451d724-a721-43ce-9848-a2130db5b692');\n",
              "          const dataTable =\n",
              "            await google.colab.kernel.invokeFunction('convertToInteractive',\n",
              "                                                     [key], {});\n",
              "          if (!dataTable) return;\n",
              "\n",
              "          const docLinkHtml = 'Like what you see? Visit the ' +\n",
              "            '<a target=\"_blank\" href=https://colab.research.google.com/notebooks/data_table.ipynb>data table notebook</a>'\n",
              "            + ' to learn more about interactive tables.';\n",
              "          element.innerHTML = '';\n",
              "          dataTable['output_type'] = 'display_data';\n",
              "          await google.colab.output.renderOutput(dataTable, element);\n",
              "          const docLink = document.createElement('div');\n",
              "          docLink.innerHTML = docLinkHtml;\n",
              "          element.appendChild(docLink);\n",
              "        }\n",
              "      </script>\n",
              "    </div>\n",
              "  </div>\n",
              "  "
            ],
            "text/plain": [
              "                city state  ...  homeType_TOWNHOUSE  median_income\n",
              "id                          ...                                   \n",
              "22805     Ocean View    DE  ...                   0        49786.0\n",
              "18392         Durham    NC  ...                   0        37513.0\n",
              "15215      Churchton    MD  ...                   0        41087.0\n",
              "20235  Pompano Beach    FL  ...                   0        37070.0\n",
              "13810      Killingly    CT  ...                   0        33438.0\n",
              "\n",
              "[5 rows x 11 columns]"
            ]
          },
          "execution_count": 12,
          "metadata": {},
          "output_type": "execute_result"
        }
      ],
      "source": [
        "# First we have to do all the preprocessing we did on our training dataset on our testing dataset:\n",
        "\n",
        "test = pd.read_csv('https://raw.githubusercontent.com/wlifferth/build-an-ml-web-app/main/test.csv', index_col='id')\n",
        "\n",
        "test.drop(['homeStatus', 'dateSold', 'address'], axis=1, inplace=True)\n",
        "\n",
        "def convert_lot_area(row):\n",
        "    if row['lotUnit'] == 'acres':\n",
        "        return row['lotArea'] * 43560\n",
        "    else:\n",
        "        return row['lotArea']\n",
        "\n",
        "test['lotArea'] = test.apply(convert_lot_area, axis=1)\n",
        "\n",
        "test.drop(['lotUnit'], inplace=True, axis=1)\n",
        "\n",
        "test = pd.get_dummies(test, columns=['homeType'])\n",
        "\n",
        "print(test.head())\n",
        "\n",
        "zip_code_df = pd.read_csv('https://raw.githubusercontent.com/wlifferth/build-an-ml-web-app/main/median_income_by_zip_code.csv')\n",
        "\n",
        "zip_code_df['median_income']\n",
        "\n",
        "test = pd.merge(test, zip_code_df, how='left', left_on='zipcode', right_on='zip_code').set_index(test.index)\n",
        "\n",
        "test['median_income'].fillna(test['median_income'].mean(), inplace=True)\n",
        "\n",
        "test.drop(['zipcode', 'zip_code'], axis=1, inplace=True)\n",
        "\n",
        "test.head()"
      ]
    },
    {
      "cell_type": "code",
      "execution_count": null,
      "id": "GNZ1La5jUrMA",
      "metadata": {
        "id": "GNZ1La5jUrMA"
      },
      "outputs": [],
      "source": [
        "final_input = pd.get_dummies(test.loc[:, ['bedrooms', 'bathrooms', 'livingArea', 'homeType_CONDO', 'homeType_MULTI_FAMILY', 'homeType_SINGLE_FAMILY', 'homeType_TOWNHOUSE', 'median_income', 'state']], columns=[\"state\"])"
      ]
    },
    {
      "cell_type": "code",
      "execution_count": null,
      "id": "201uFOpEc14Z",
      "metadata": {
        "id": "201uFOpEc14Z"
      },
      "outputs": [],
      "source": [
        "test['price'] = final_model.predict(final_input)"
      ]
    },
    {
      "cell_type": "code",
      "execution_count": null,
      "id": "6OpYaIK6UwOv",
      "metadata": {
        "colab": {
          "base_uri": "https://localhost:8080/",
          "height": 336
        },
        "id": "6OpYaIK6UwOv",
        "outputId": "e5d92c09-7d14-49dd-e2c2-93a88b60db67"
      },
      "outputs": [
        {
          "data": {
            "text/html": [
              "\n",
              "  <div id=\"df-3634bc1b-a1c3-421c-90a8-3199e421c9d9\">\n",
              "    <div class=\"colab-df-container\">\n",
              "      <div>\n",
              "<style scoped>\n",
              "    .dataframe tbody tr th:only-of-type {\n",
              "        vertical-align: middle;\n",
              "    }\n",
              "\n",
              "    .dataframe tbody tr th {\n",
              "        vertical-align: top;\n",
              "    }\n",
              "\n",
              "    .dataframe thead th {\n",
              "        text-align: right;\n",
              "    }\n",
              "</style>\n",
              "<table border=\"1\" class=\"dataframe\">\n",
              "  <thead>\n",
              "    <tr style=\"text-align: right;\">\n",
              "      <th></th>\n",
              "      <th>city</th>\n",
              "      <th>state</th>\n",
              "      <th>bathrooms</th>\n",
              "      <th>bedrooms</th>\n",
              "      <th>livingArea</th>\n",
              "      <th>lotArea</th>\n",
              "      <th>homeType_CONDO</th>\n",
              "      <th>homeType_MULTI_FAMILY</th>\n",
              "      <th>homeType_SINGLE_FAMILY</th>\n",
              "      <th>homeType_TOWNHOUSE</th>\n",
              "      <th>median_income</th>\n",
              "      <th>price</th>\n",
              "    </tr>\n",
              "    <tr>\n",
              "      <th>id</th>\n",
              "      <th></th>\n",
              "      <th></th>\n",
              "      <th></th>\n",
              "      <th></th>\n",
              "      <th></th>\n",
              "      <th></th>\n",
              "      <th></th>\n",
              "      <th></th>\n",
              "      <th></th>\n",
              "      <th></th>\n",
              "      <th></th>\n",
              "      <th></th>\n",
              "    </tr>\n",
              "  </thead>\n",
              "  <tbody>\n",
              "    <tr>\n",
              "      <th>22805</th>\n",
              "      <td>Ocean View</td>\n",
              "      <td>DE</td>\n",
              "      <td>4.0</td>\n",
              "      <td>5.0</td>\n",
              "      <td>4100.0</td>\n",
              "      <td>10454.4</td>\n",
              "      <td>0</td>\n",
              "      <td>0</td>\n",
              "      <td>1</td>\n",
              "      <td>0</td>\n",
              "      <td>49786.0</td>\n",
              "      <td>759542.75000</td>\n",
              "    </tr>\n",
              "    <tr>\n",
              "      <th>18392</th>\n",
              "      <td>Durham</td>\n",
              "      <td>NC</td>\n",
              "      <td>3.0</td>\n",
              "      <td>4.0</td>\n",
              "      <td>2055.0</td>\n",
              "      <td>12632.4</td>\n",
              "      <td>0</td>\n",
              "      <td>0</td>\n",
              "      <td>1</td>\n",
              "      <td>0</td>\n",
              "      <td>37513.0</td>\n",
              "      <td>390065.21875</td>\n",
              "    </tr>\n",
              "    <tr>\n",
              "      <th>15215</th>\n",
              "      <td>Churchton</td>\n",
              "      <td>MD</td>\n",
              "      <td>2.0</td>\n",
              "      <td>3.0</td>\n",
              "      <td>1530.0</td>\n",
              "      <td>4791.6</td>\n",
              "      <td>0</td>\n",
              "      <td>0</td>\n",
              "      <td>1</td>\n",
              "      <td>0</td>\n",
              "      <td>41087.0</td>\n",
              "      <td>272682.68750</td>\n",
              "    </tr>\n",
              "    <tr>\n",
              "      <th>20235</th>\n",
              "      <td>Pompano Beach</td>\n",
              "      <td>FL</td>\n",
              "      <td>1.0</td>\n",
              "      <td>3.0</td>\n",
              "      <td>744.0</td>\n",
              "      <td>6120.0</td>\n",
              "      <td>0</td>\n",
              "      <td>0</td>\n",
              "      <td>1</td>\n",
              "      <td>0</td>\n",
              "      <td>37070.0</td>\n",
              "      <td>209613.18750</td>\n",
              "    </tr>\n",
              "    <tr>\n",
              "      <th>13810</th>\n",
              "      <td>Killingly</td>\n",
              "      <td>CT</td>\n",
              "      <td>3.0</td>\n",
              "      <td>6.0</td>\n",
              "      <td>4166.0</td>\n",
              "      <td>37.0</td>\n",
              "      <td>0</td>\n",
              "      <td>0</td>\n",
              "      <td>1</td>\n",
              "      <td>0</td>\n",
              "      <td>33438.0</td>\n",
              "      <td>582188.56250</td>\n",
              "    </tr>\n",
              "  </tbody>\n",
              "</table>\n",
              "</div>\n",
              "      <button class=\"colab-df-convert\" onclick=\"convertToInteractive('df-3634bc1b-a1c3-421c-90a8-3199e421c9d9')\"\n",
              "              title=\"Convert this dataframe to an interactive table.\"\n",
              "              style=\"display:none;\">\n",
              "        \n",
              "  <svg xmlns=\"http://www.w3.org/2000/svg\" height=\"24px\"viewBox=\"0 0 24 24\"\n",
              "       width=\"24px\">\n",
              "    <path d=\"M0 0h24v24H0V0z\" fill=\"none\"/>\n",
              "    <path d=\"M18.56 5.44l.94 2.06.94-2.06 2.06-.94-2.06-.94-.94-2.06-.94 2.06-2.06.94zm-11 1L8.5 8.5l.94-2.06 2.06-.94-2.06-.94L8.5 2.5l-.94 2.06-2.06.94zm10 10l.94 2.06.94-2.06 2.06-.94-2.06-.94-.94-2.06-.94 2.06-2.06.94z\"/><path d=\"M17.41 7.96l-1.37-1.37c-.4-.4-.92-.59-1.43-.59-.52 0-1.04.2-1.43.59L10.3 9.45l-7.72 7.72c-.78.78-.78 2.05 0 2.83L4 21.41c.39.39.9.59 1.41.59.51 0 1.02-.2 1.41-.59l7.78-7.78 2.81-2.81c.8-.78.8-2.07 0-2.86zM5.41 20L4 18.59l7.72-7.72 1.47 1.35L5.41 20z\"/>\n",
              "  </svg>\n",
              "      </button>\n",
              "      \n",
              "  <style>\n",
              "    .colab-df-container {\n",
              "      display:flex;\n",
              "      flex-wrap:wrap;\n",
              "      gap: 12px;\n",
              "    }\n",
              "\n",
              "    .colab-df-convert {\n",
              "      background-color: #E8F0FE;\n",
              "      border: none;\n",
              "      border-radius: 50%;\n",
              "      cursor: pointer;\n",
              "      display: none;\n",
              "      fill: #1967D2;\n",
              "      height: 32px;\n",
              "      padding: 0 0 0 0;\n",
              "      width: 32px;\n",
              "    }\n",
              "\n",
              "    .colab-df-convert:hover {\n",
              "      background-color: #E2EBFA;\n",
              "      box-shadow: 0px 1px 2px rgba(60, 64, 67, 0.3), 0px 1px 3px 1px rgba(60, 64, 67, 0.15);\n",
              "      fill: #174EA6;\n",
              "    }\n",
              "\n",
              "    [theme=dark] .colab-df-convert {\n",
              "      background-color: #3B4455;\n",
              "      fill: #D2E3FC;\n",
              "    }\n",
              "\n",
              "    [theme=dark] .colab-df-convert:hover {\n",
              "      background-color: #434B5C;\n",
              "      box-shadow: 0px 1px 3px 1px rgba(0, 0, 0, 0.15);\n",
              "      filter: drop-shadow(0px 1px 2px rgba(0, 0, 0, 0.3));\n",
              "      fill: #FFFFFF;\n",
              "    }\n",
              "  </style>\n",
              "\n",
              "      <script>\n",
              "        const buttonEl =\n",
              "          document.querySelector('#df-3634bc1b-a1c3-421c-90a8-3199e421c9d9 button.colab-df-convert');\n",
              "        buttonEl.style.display =\n",
              "          google.colab.kernel.accessAllowed ? 'block' : 'none';\n",
              "\n",
              "        async function convertToInteractive(key) {\n",
              "          const element = document.querySelector('#df-3634bc1b-a1c3-421c-90a8-3199e421c9d9');\n",
              "          const dataTable =\n",
              "            await google.colab.kernel.invokeFunction('convertToInteractive',\n",
              "                                                     [key], {});\n",
              "          if (!dataTable) return;\n",
              "\n",
              "          const docLinkHtml = 'Like what you see? Visit the ' +\n",
              "            '<a target=\"_blank\" href=https://colab.research.google.com/notebooks/data_table.ipynb>data table notebook</a>'\n",
              "            + ' to learn more about interactive tables.';\n",
              "          element.innerHTML = '';\n",
              "          dataTable['output_type'] = 'display_data';\n",
              "          await google.colab.output.renderOutput(dataTable, element);\n",
              "          const docLink = document.createElement('div');\n",
              "          docLink.innerHTML = docLinkHtml;\n",
              "          element.appendChild(docLink);\n",
              "        }\n",
              "      </script>\n",
              "    </div>\n",
              "  </div>\n",
              "  "
            ],
            "text/plain": [
              "                city state  ...  median_income         price\n",
              "id                          ...                             \n",
              "22805     Ocean View    DE  ...        49786.0  759542.75000\n",
              "18392         Durham    NC  ...        37513.0  390065.21875\n",
              "15215      Churchton    MD  ...        41087.0  272682.68750\n",
              "20235  Pompano Beach    FL  ...        37070.0  209613.18750\n",
              "13810      Killingly    CT  ...        33438.0  582188.56250\n",
              "\n",
              "[5 rows x 12 columns]"
            ]
          },
          "execution_count": 15,
          "metadata": {},
          "output_type": "execute_result"
        }
      ],
      "source": [
        "test.head()"
      ]
    },
    {
      "cell_type": "code",
      "execution_count": null,
      "id": "w6MOGJF_M-i2",
      "metadata": {
        "id": "w6MOGJF_M-i2"
      },
      "outputs": [],
      "source": [
        "# Export model to the web app\n",
        "\n",
        "final_model.save_model('my_model.bin')"
      ]
    },
    {
      "cell_type": "code",
      "execution_count": null,
      "id": "V_GCIaZhU9po",
      "metadata": {
        "id": "V_GCIaZhU9po"
      },
      "outputs": [],
      "source": [
        "#test['price'].to_csv('2022-01-15-submission.csv', index_label='id')"
      ]
    }
  ],
  "metadata": {
    "colab": {
      "collapsed_sections": [],
      "name": "my_model.ipynb",
      "provenance": []
    },
    "kernelspec": {
      "display_name": "Python 3",
      "language": "python",
      "name": "python3"
    },
    "language_info": {
      "codemirror_mode": {
        "name": "ipython",
        "version": 3
      },
      "file_extension": ".py",
      "mimetype": "text/x-python",
      "name": "python",
      "nbconvert_exporter": "python",
      "pygments_lexer": "ipython3",
      "version": "3.9.0"
    }
  },
  "nbformat": 4,
  "nbformat_minor": 5
}
